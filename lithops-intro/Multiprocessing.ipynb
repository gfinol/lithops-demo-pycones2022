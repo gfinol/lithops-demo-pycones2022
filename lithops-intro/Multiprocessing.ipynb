{
 "cells": [
  {
   "cell_type": "markdown",
   "id": "59ae1d4e",
   "metadata": {},
   "source": [
    "# Lithops multirpocessing API"
   ]
  },
  {
   "cell_type": "markdown",
   "id": "72addce0",
   "metadata": {},
   "source": [
    "### Ejemplo sencillo de multiprocessing"
   ]
  },
  {
   "cell_type": "code",
   "execution_count": 2,
   "id": "d087a878",
   "metadata": {},
   "outputs": [],
   "source": [
    "from multiprocessing import Pool"
   ]
  },
  {
   "cell_type": "code",
   "execution_count": 3,
   "id": "4c75d6e0",
   "metadata": {},
   "outputs": [],
   "source": [
    "def f(x):\n",
    "    return x*x\n"
   ]
  },
  {
   "cell_type": "code",
   "execution_count": 4,
   "id": "2f7a931d",
   "metadata": {},
   "outputs": [
    {
     "name": "stdout",
     "output_type": "stream",
     "text": [
      "[1, 4, 9]\n"
     ]
    }
   ],
   "source": [
    "with Pool(5) as p:\n",
    "    print(p.map(f, [1, 2, 3]))"
   ]
  },
  {
   "cell_type": "markdown",
   "id": "4efd7c15",
   "metadata": {},
   "source": [
    " ### Ahora con Lithops..."
   ]
  },
  {
   "cell_type": "code",
   "execution_count": 5,
   "id": "9a385398",
   "metadata": {},
   "outputs": [],
   "source": [
    "from lithops.multiprocessing import Pool\n"
   ]
  },
  {
   "cell_type": "code",
   "execution_count": 6,
   "id": "291032f4",
   "metadata": {},
   "outputs": [
    {
     "name": "stderr",
     "output_type": "stream",
     "text": [
      "2022-10-01 16:07:33,246 [INFO] lithops.config -- Lithops v2.6.0\n",
      "2022-10-01 16:07:33,380 [INFO] lithops.storage.backends.aws_s3.aws_s3 -- S3 client created - Region: eu-central-1\n",
      "2022-10-01 16:07:33,844 [INFO] lithops.serverless.backends.aws_lambda.aws_lambda -- AWS Lambda client created - Region: eu-central-1\n",
      "2022-10-01 16:07:33,846 [INFO] lithops.invokers -- ExecutorID 1a848e-0 | JobID M000 - Selected Runtime: gfinol/python3.10:3.0 - 1769MB\n",
      "2022-10-01 16:07:33,931 [INFO] lithops.invokers -- ExecutorID 1a848e-0 | JobID M000 - Starting function invocation: cloud_process_wrapper() - Total: 3 activations\n",
      "2022-10-01 16:07:33,934 [INFO] lithops.invokers -- ExecutorID 1a848e-0 | JobID M000 - View execution logs at /tmp/lithops/logs/1a848e-0-M000.log\n",
      "2022-10-01 16:07:33,935 [INFO] lithops.wait -- ExecutorID 1a848e-0 - Getting results from 3 function activations\n"
     ]
    },
    {
     "data": {
      "application/vnd.jupyter.widget-view+json": {
       "model_id": "6f031554f8de4cd9aa833b8759b21615",
       "version_major": 2,
       "version_minor": 0
      },
      "text/plain": [
       "    0%|          | 0/3  "
      ]
     },
     "metadata": {},
     "output_type": "display_data"
    },
    {
     "name": "stderr",
     "output_type": "stream",
     "text": [
      "2022-10-01 16:07:37,087 [INFO] lithops.executors -- ExecutorID 1a848e-0 - Cleaning temporary data\n"
     ]
    },
    {
     "name": "stdout",
     "output_type": "stream",
     "text": [
      "[1, 4, 9]\n"
     ]
    }
   ],
   "source": [
    "with Pool(5) as p:\n",
    "    print(p.map(f, [1, 2, 3]))"
   ]
  },
  {
   "cell_type": "markdown",
   "id": "3861cbf0",
   "metadata": {},
   "source": [
    "### Pero multiprocessing tiene más abstracciones: Queue, Process, Pipes..."
   ]
  },
  {
   "cell_type": "code",
   "execution_count": 7,
   "id": "0c1ddaf7",
   "metadata": {},
   "outputs": [
    {
     "name": "stdout",
     "output_type": "stream",
     "text": [
      "hola\n"
     ]
    }
   ],
   "source": [
    "import multiprocessing as mp\n",
    "\n",
    "def add_to_queue(queue):\n",
    "    queue.put('hola')\n",
    "\n",
    "queue = mp.Queue()\n",
    "p = mp.Process(target=add_to_queue, args=(queue,))\n",
    "p.start()\n",
    "print(queue.get())\n",
    "p.join()"
   ]
  },
  {
   "cell_type": "markdown",
   "id": "258bcf09",
   "metadata": {},
   "source": [
    "## Lithops las soporta!"
   ]
  },
  {
   "cell_type": "code",
   "execution_count": 8,
   "id": "7e830396",
   "metadata": {},
   "outputs": [
    {
     "name": "stderr",
     "output_type": "stream",
     "text": [
      "2022-10-01 16:08:23,739 [INFO] lithops.config -- Lithops v2.6.0\n",
      "2022-10-01 16:08:23,752 [INFO] lithops.storage.backends.aws_s3.aws_s3 -- S3 client created - Region: eu-central-1\n",
      "2022-10-01 16:08:24,284 [INFO] lithops.serverless.backends.aws_lambda.aws_lambda -- AWS Lambda client created - Region: eu-central-1\n",
      "2022-10-01 16:08:24,289 [INFO] lithops.invokers -- ExecutorID 1a848e-1 | JobID A000 - Selected Runtime: gfinol/python3.10:3.0 - 1769MB\n",
      "2022-10-01 16:08:24,399 [INFO] lithops.invokers -- ExecutorID 1a848e-1 | JobID A000 - Starting function invocation: cloud_process_wrapper() - Total: 1 activations\n",
      "2022-10-01 16:08:24,400 [INFO] lithops.invokers -- ExecutorID 1a848e-1 | JobID A000 - View execution logs at /tmp/lithops/logs/1a848e-1-A000.log\n",
      "2022-10-01 16:08:24,804 [INFO] lithops.wait -- ExecutorID 1a848e-1 - Waiting for 100% of 1 function activations to complete\n"
     ]
    },
    {
     "name": "stdout",
     "output_type": "stream",
     "text": [
      "hola\n"
     ]
    },
    {
     "data": {
      "application/vnd.jupyter.widget-view+json": {
       "model_id": "667e434479ec4243945907a0903f5b41",
       "version_major": 2,
       "version_minor": 0
      },
      "text/plain": [
       "    0%|          | 0/1  "
      ]
     },
     "metadata": {},
     "output_type": "display_data"
    },
    {
     "name": "stderr",
     "output_type": "stream",
     "text": [
      "2022-10-01 16:08:26,824 [INFO] lithops.executors -- ExecutorID 1a848e-1 - Cleaning temporary data\n"
     ]
    }
   ],
   "source": [
    "import lithops.multiprocessing as mp\n",
    "\n",
    "queue = mp.Queue()\n",
    "p = mp.Process(target=add_to_queue, args=(queue,))\n",
    "p.start()\n",
    "print(queue.get())\n",
    "p.join()"
   ]
  },
  {
   "cell_type": "markdown",
   "id": "3227d36e",
   "metadata": {},
   "source": [
    "## Veamos un ejemplo con listas y diccionarios compartidos"
   ]
  },
  {
   "cell_type": "code",
   "execution_count": 9,
   "id": "d8d9882d",
   "metadata": {},
   "outputs": [
    {
     "name": "stdout",
     "output_type": "stream",
     "text": [
      "[('1', 1), ('2', 2), ('0.25', None)]\n",
      "[9, 8, 7, 6, 5, 4, 3, 2, 1, 0]\n"
     ]
    }
   ],
   "source": [
    "from multiprocessing import Process, Manager\n",
    "\n",
    "def f(d, l):\n",
    "    d['1'] = 1\n",
    "    d['2'] = 2\n",
    "    d['0.25'] = None\n",
    "    l.reverse()\n",
    "\n",
    "with Manager() as manager:\n",
    "    d = manager.dict()\n",
    "    l = manager.list(range(10)) # [0, 1, 2, 3, 4, 5, 6, 7, 8, 9]\n",
    "\n",
    "    p = Process(target=f, args=(d, l))\n",
    "    p.start()\n",
    "    p.join()\n",
    "\n",
    "    print(d.items())\n",
    "    print(l[:])"
   ]
  },
  {
   "cell_type": "code",
   "execution_count": 10,
   "id": "7cb758ee",
   "metadata": {},
   "outputs": [
    {
     "name": "stderr",
     "output_type": "stream",
     "text": [
      "2022-10-01 16:09:10,434 [INFO] lithops.config -- Lithops v2.6.0\n",
      "2022-10-01 16:09:10,446 [INFO] lithops.storage.backends.aws_s3.aws_s3 -- S3 client created - Region: eu-central-1\n",
      "2022-10-01 16:09:10,922 [INFO] lithops.serverless.backends.aws_lambda.aws_lambda -- AWS Lambda client created - Region: eu-central-1\n",
      "2022-10-01 16:09:10,928 [INFO] lithops.invokers -- ExecutorID 1a848e-2 | JobID A000 - Selected Runtime: gfinol/python3.10:3.0 - 1769MB\n",
      "2022-10-01 16:09:11,010 [INFO] lithops.invokers -- ExecutorID 1a848e-2 | JobID A000 - Starting function invocation: cloud_process_wrapper() - Total: 1 activations\n",
      "2022-10-01 16:09:11,012 [INFO] lithops.invokers -- ExecutorID 1a848e-2 | JobID A000 - View execution logs at /tmp/lithops/logs/1a848e-2-A000.log\n",
      "2022-10-01 16:09:11,013 [INFO] lithops.wait -- ExecutorID 1a848e-2 - Waiting for 100% of 1 function activations to complete\n"
     ]
    },
    {
     "data": {
      "application/vnd.jupyter.widget-view+json": {
       "model_id": "fec2c9aa11114fc39718a8c2292e5d88",
       "version_major": 2,
       "version_minor": 0
      },
      "text/plain": [
       "    0%|          | 0/1  "
      ]
     },
     "metadata": {},
     "output_type": "display_data"
    },
    {
     "name": "stderr",
     "output_type": "stream",
     "text": [
      "2022-10-01 16:09:14,034 [INFO] lithops.executors -- ExecutorID 1a848e-2 - Cleaning temporary data\n"
     ]
    },
    {
     "name": "stdout",
     "output_type": "stream",
     "text": [
      "[('1', 1), ('2', 2), ('0.25', None)]\n",
      "[9, 8, 7, 6, 5, 4, 3, 2, 1, 0]\n"
     ]
    }
   ],
   "source": [
    "from lithops.multiprocessing import Process, Manager\n",
    "\n",
    "with Manager() as manager:\n",
    "    d = manager.dict()\n",
    "    l = manager.list(range(10)) # [0, 1, 2, 3, 4, 5, 6, 7, 8, 9]\n",
    "\n",
    "    p = Process(target=f, args=(d, l))\n",
    "    p.start()\n",
    "    p.join()\n",
    "    \n",
    "    print(d.items())\n",
    "    print(l[:])"
   ]
  },
  {
   "cell_type": "markdown",
   "id": "681b4166-26c9-4c1e-9c5c-22d930d660a7",
   "metadata": {},
   "source": [
    "## Veamos un ejemplo con Values y su consistencia "
   ]
  },
  {
   "cell_type": "code",
   "execution_count": 11,
   "id": "c2034d7a",
   "metadata": {},
   "outputs": [
    {
     "name": "stdout",
     "output_type": "stream",
     "text": [
      "El valor inicial de v es 0\n",
      "El valor final de v es 40\n"
     ]
    }
   ],
   "source": [
    "from multiprocessing import Pool, Value\n",
    "\n",
    "def sync_incr(proc_id):\n",
    "    for _ in range(10):\n",
    "        with v.get_lock():\n",
    "            v.value += 1\n",
    "\n",
    "\n",
    "# Synchronized shared value\n",
    "v = Value('i')\n",
    "print(f\"El valor inicial de v es {v.value}\")\n",
    "\n",
    "with Pool() as p:\n",
    "    res = p.map_async(sync_incr, [str(i) for i in range(4)])\n",
    "    p.close()\n",
    "    res.get()\n",
    "    p.join()\n",
    "\n",
    "print(f\"El valor final de v es {v.value}\")"
   ]
  },
  {
   "cell_type": "code",
   "execution_count": 12,
   "id": "1e58ffa9-a58b-434e-8305-1e1c5066b9b5",
   "metadata": {},
   "outputs": [
    {
     "name": "stderr",
     "output_type": "stream",
     "text": [
      "2022-10-01 16:09:58,790 [INFO] lithops.config -- Lithops v2.6.0\n",
      "2022-10-01 16:09:58,802 [INFO] lithops.storage.backends.aws_s3.aws_s3 -- S3 client created - Region: eu-central-1\n"
     ]
    },
    {
     "name": "stdout",
     "output_type": "stream",
     "text": [
      "El valor inicial de v es 0\n"
     ]
    },
    {
     "name": "stderr",
     "output_type": "stream",
     "text": [
      "2022-10-01 16:09:59,277 [INFO] lithops.serverless.backends.aws_lambda.aws_lambda -- AWS Lambda client created - Region: eu-central-1\n",
      "2022-10-01 16:09:59,279 [INFO] lithops.invokers -- ExecutorID 1a848e-3 | JobID M000 - Selected Runtime: gfinol/python3.10:3.0 - 1769MB\n",
      "2022-10-01 16:09:59,370 [INFO] lithops.invokers -- ExecutorID 1a848e-3 | JobID M000 - Starting function invocation: cloud_process_wrapper() - Total: 4 activations\n",
      "2022-10-01 16:09:59,375 [INFO] lithops.invokers -- ExecutorID 1a848e-3 | JobID M000 - View execution logs at /tmp/lithops/logs/1a848e-3-M000.log\n",
      "2022-10-01 16:09:59,377 [INFO] lithops.wait -- ExecutorID 1a848e-3 - Getting results from 4 function activations\n"
     ]
    },
    {
     "data": {
      "application/vnd.jupyter.widget-view+json": {
       "model_id": "9831305710394c359022e0e631a14ae0",
       "version_major": 2,
       "version_minor": 0
      },
      "text/plain": [
       "    0%|          | 0/4  "
      ]
     },
     "metadata": {},
     "output_type": "display_data"
    },
    {
     "name": "stderr",
     "output_type": "stream",
     "text": [
      "2022-10-01 16:10:03,404 [INFO] lithops.executors -- ExecutorID 1a848e-3 - Cleaning temporary data\n"
     ]
    },
    {
     "name": "stdout",
     "output_type": "stream",
     "text": [
      "El valor final de v es 40\n"
     ]
    }
   ],
   "source": [
    "from lithops.multiprocessing import Pool, Value\n",
    "\n",
    "# Synchronized shared value\n",
    "v = Value('i')\n",
    "print(f\"El valor inicial de v es {v.value}\")\n",
    "\n",
    "with Pool() as p:\n",
    "    res = p.map_async(sync_incr, [str(i) for i in range(4)])\n",
    "    p.close()\n",
    "    res.get()\n",
    "    p.join()\n",
    "\n",
    "print(f\"El valor final de v es {v.value}\")"
   ]
  },
  {
   "cell_type": "code",
   "execution_count": null,
   "id": "84158257-1d4b-4196-a928-317143aaf768",
   "metadata": {},
   "outputs": [],
   "source": []
  }
 ],
 "metadata": {
  "kernelspec": {
   "display_name": "Python 3 (ipykernel)",
   "language": "python",
   "name": "python3"
  },
  "language_info": {
   "codemirror_mode": {
    "name": "ipython",
    "version": 3
   },
   "file_extension": ".py",
   "mimetype": "text/x-python",
   "name": "python",
   "nbconvert_exporter": "python",
   "pygments_lexer": "ipython3",
   "version": "3.10.6"
  }
 },
 "nbformat": 4,
 "nbformat_minor": 5
}
