{
 "cells": [
  {
   "cell_type": "code",
   "execution_count": 2,
   "id": "f4f6c761",
   "metadata": {},
   "outputs": [],
   "source": [
    "from lithops import FunctionExecutor, Storage\n",
    "import time"
   ]
  },
  {
   "cell_type": "code",
   "execution_count": 3,
   "id": "799556b7",
   "metadata": {},
   "outputs": [
    {
     "name": "stdout",
     "output_type": "stream",
     "text": [
      "7\n"
     ]
    }
   ],
   "source": [
    "def mi_funcion(x):\n",
    "    time.sleep(2)\n",
    "    \n",
    "    return x + 4\n",
    "\n",
    "print(mi_funcion(3))"
   ]
  },
  {
   "cell_type": "markdown",
   "id": "5caf2598",
   "metadata": {},
   "source": [
    "### Ejecutemos `mi_funcion` en la nube con Lithops"
   ]
  },
  {
   "cell_type": "code",
   "execution_count": 4,
   "id": "2f447a54",
   "metadata": {},
   "outputs": [
    {
     "name": "stderr",
     "output_type": "stream",
     "text": [
      "2022-10-01 15:50:05,028 [INFO] lithops.config -- Lithops v2.6.0\n",
      "2022-10-01 15:50:05,552 [INFO] lithops.storage.backends.aws_s3.aws_s3 -- S3 client created - Region: eu-central-1\n",
      "2022-10-01 15:50:06,022 [INFO] lithops.serverless.backends.aws_lambda.aws_lambda -- AWS Lambda client created - Region: eu-central-1\n",
      "2022-10-01 15:50:06,024 [INFO] lithops.invokers -- ExecutorID 69b74f-0 | JobID A000 - Selected Runtime: gfinol/python3.10:3.0 - 1769MB\n",
      "2022-10-01 15:50:06,138 [INFO] lithops.invokers -- ExecutorID 69b74f-0 | JobID A000 - Starting function invocation: mi_funcion() - Total: 1 activations\n",
      "2022-10-01 15:50:06,139 [INFO] lithops.invokers -- ExecutorID 69b74f-0 | JobID A000 - View execution logs at /tmp/lithops/logs/69b74f-0-A000.log\n",
      "2022-10-01 15:50:06,141 [INFO] lithops.wait -- ExecutorID 69b74f-0 - Getting results from 1 function activations\n"
     ]
    },
    {
     "data": {
      "application/vnd.jupyter.widget-view+json": {
       "model_id": "685e71e7356d47959695cd857f0926f8",
       "version_major": 2,
       "version_minor": 0
      },
      "text/plain": [
       "    0%|          | 0/1  "
      ]
     },
     "metadata": {},
     "output_type": "display_data"
    },
    {
     "name": "stderr",
     "output_type": "stream",
     "text": [
      "2022-10-01 15:50:13,248 [INFO] lithops.executors -- ExecutorID 69b74f-0 - Cleaning temporary data\n"
     ]
    },
    {
     "name": "stdout",
     "output_type": "stream",
     "text": [
      "7\n"
     ]
    }
   ],
   "source": [
    "fexec = FunctionExecutor()\n",
    "fexec.call_async(mi_funcion, 3)\n",
    "\n",
    "print(fexec.get_result())\n",
    "fexec.clean()"
   ]
  },
  {
   "cell_type": "markdown",
   "id": "e6b0fcd1",
   "metadata": {},
   "source": [
    "### Observemos que `call_async` no bloquea el flujo de ejecución:"
   ]
  },
  {
   "cell_type": "code",
   "execution_count": 5,
   "id": "f15794a8",
   "metadata": {},
   "outputs": [
    {
     "name": "stderr",
     "output_type": "stream",
     "text": [
      "2022-10-01 15:50:43,034 [INFO] lithops.config -- Lithops v2.6.0\n",
      "2022-10-01 15:50:43,045 [INFO] lithops.storage.backends.aws_s3.aws_s3 -- S3 client created - Region: eu-central-1\n",
      "2022-10-01 15:50:43,517 [INFO] lithops.serverless.backends.aws_lambda.aws_lambda -- AWS Lambda client created - Region: eu-central-1\n",
      "2022-10-01 15:50:43,519 [INFO] lithops.invokers -- ExecutorID 69b74f-1 | JobID A000 - Selected Runtime: gfinol/python3.10:3.0 - 1769MB\n",
      "2022-10-01 15:50:43,611 [INFO] lithops.invokers -- ExecutorID 69b74f-1 | JobID A000 - Starting function invocation: mi_funcion() - Total: 1 activations\n",
      "2022-10-01 15:50:43,612 [INFO] lithops.invokers -- ExecutorID 69b74f-1 | JobID A000 - View execution logs at /tmp/lithops/logs/69b74f-1-A000.log\n"
     ]
    },
    {
     "name": "stdout",
     "output_type": "stream",
     "text": [
      "Hola PyConES 2022!\n",
      "Empieza el flujo de ejecución...\n",
      ".\n",
      ".\n",
      ".\n",
      ".\n",
      ".\n",
      ".\n",
      ".\n",
      ".\n",
      ".\n",
      ".\n",
      "Finalizado!\n"
     ]
    },
    {
     "name": "stderr",
     "output_type": "stream",
     "text": [
      "2022-10-01 15:50:53,627 [INFO] lithops.wait -- ExecutorID 69b74f-1 - Getting results from 1 function activations\n"
     ]
    },
    {
     "data": {
      "application/vnd.jupyter.widget-view+json": {
       "model_id": "1f1bdd58deeb435d9f4b844735cdbd8b",
       "version_major": 2,
       "version_minor": 0
      },
      "text/plain": [
       "    0%|          | 0/1  "
      ]
     },
     "metadata": {},
     "output_type": "display_data"
    },
    {
     "name": "stderr",
     "output_type": "stream",
     "text": [
      "2022-10-01 15:50:53,658 [INFO] lithops.executors -- ExecutorID 69b74f-1 - Cleaning temporary data\n"
     ]
    },
    {
     "name": "stdout",
     "output_type": "stream",
     "text": [
      "7\n"
     ]
    }
   ],
   "source": [
    "fexec = FunctionExecutor()\n",
    "fexec.call_async(mi_funcion, 3)\n",
    "\n",
    "print('Hola PyConES 2022!')\n",
    "\n",
    "# Simulando un flujo de ejecución largo...\n",
    "print('Empieza el flujo de ejecución...',)\n",
    "for i in range(10):\n",
    "    time.sleep(1)\n",
    "    print('.')\n",
    "print('Finalizado!', flush=True)\n",
    "\n",
    "# Imprimimos el resultado de 'mi_funcion'\n",
    "print(fexec.get_result())\n",
    "\n",
    "fexec.clean()"
   ]
  },
  {
   "cell_type": "markdown",
   "id": "899678be",
   "metadata": {},
   "source": [
    "### Ahora sobre más datos! Usemos la función `map`."
   ]
  },
  {
   "cell_type": "code",
   "execution_count": 6,
   "id": "5ba8a3da",
   "metadata": {},
   "outputs": [
    {
     "name": "stderr",
     "output_type": "stream",
     "text": [
      "2022-10-01 15:51:15,595 [INFO] lithops.config -- Lithops v2.6.0\n",
      "2022-10-01 15:51:15,606 [INFO] lithops.storage.backends.aws_s3.aws_s3 -- S3 client created - Region: eu-central-1\n",
      "2022-10-01 15:51:16,132 [INFO] lithops.serverless.backends.aws_lambda.aws_lambda -- AWS Lambda client created - Region: eu-central-1\n",
      "2022-10-01 15:51:16,134 [INFO] lithops.invokers -- ExecutorID 69b74f-2 | JobID M000 - Selected Runtime: gfinol/python3.10:3.0 - 1769MB\n",
      "2022-10-01 15:51:16,229 [INFO] lithops.invokers -- ExecutorID 69b74f-2 | JobID M000 - Starting function invocation: mi_funcion() - Total: 4 activations\n",
      "2022-10-01 15:51:16,234 [INFO] lithops.invokers -- ExecutorID 69b74f-2 | JobID M000 - View execution logs at /tmp/lithops/logs/69b74f-2-M000.log\n",
      "2022-10-01 15:51:16,237 [INFO] lithops.wait -- ExecutorID 69b74f-2 - Getting results from 4 function activations\n"
     ]
    },
    {
     "data": {
      "application/vnd.jupyter.widget-view+json": {
       "model_id": "fe02120d445b424e85a5d544f099dc1f",
       "version_major": 2,
       "version_minor": 0
      },
      "text/plain": [
       "    0%|          | 0/4  "
      ]
     },
     "metadata": {},
     "output_type": "display_data"
    },
    {
     "name": "stderr",
     "output_type": "stream",
     "text": [
      "2022-10-01 15:51:22,303 [INFO] lithops.executors -- ExecutorID 69b74f-2 - Cleaning temporary data\n"
     ]
    },
    {
     "name": "stdout",
     "output_type": "stream",
     "text": [
      "[5, 6, 7, 8]\n"
     ]
    }
   ],
   "source": [
    "iterdata = [1, 2, 3, 4]\n",
    "\n",
    "fexec = FunctionExecutor()\n",
    "fexec.map(mi_funcion, iterdata)\n",
    "print(fexec.get_result())\n",
    "\n",
    "fexec.clean()"
   ]
  },
  {
   "cell_type": "markdown",
   "id": "7ce99fc5",
   "metadata": {},
   "source": [
    "## Migrando el código de AWS a IBM cloud\n",
    "\n",
    "![migracion](img/migrar.png)"
   ]
  },
  {
   "cell_type": "code",
   "execution_count": 7,
   "id": "3e8063d0",
   "metadata": {},
   "outputs": [
    {
     "name": "stderr",
     "output_type": "stream",
     "text": [
      "2022-10-01 15:51:56,467 [INFO] lithops.config -- Lithops v2.6.0\n",
      "2022-10-01 15:51:57,235 [INFO] lithops.storage.backends.ibm_cos.ibm_cos -- IBM COS client created - Region: eu-de\n",
      "2022-10-01 15:51:57,236 [INFO] lithops.serverless.backends.ibm_cf.ibm_cf -- IBM CF client created - Region: eu-de - Namespace: gerard_dev_eu_de\n",
      "2022-10-01 15:51:57,236 [INFO] lithops.invokers -- ExecutorID 69b74f-3 | JobID M000 - Selected Runtime: lithopscloud/ibmcf-python-v310 - 2048MB\n",
      "2022-10-01 15:51:57,948 [INFO] lithops.invokers -- ExecutorID 69b74f-3 | JobID M000 - Starting function invocation: mi_funcion() - Total: 4 activations\n",
      "2022-10-01 15:51:57,949 [INFO] lithops.invokers -- ExecutorID 69b74f-3 | JobID M000 - View execution logs at /tmp/lithops/logs/69b74f-3-M000.log\n",
      "2022-10-01 15:51:57,950 [INFO] lithops.wait -- ExecutorID 69b74f-3 - Getting results from 4 function activations\n"
     ]
    },
    {
     "data": {
      "application/vnd.jupyter.widget-view+json": {
       "model_id": "f34b68f0b8554ff9a6b248a32cc60944",
       "version_major": 2,
       "version_minor": 0
      },
      "text/plain": [
       "    0%|          | 0/4  "
      ]
     },
     "metadata": {},
     "output_type": "display_data"
    },
    {
     "name": "stderr",
     "output_type": "stream",
     "text": [
      "2022-10-01 15:52:06,706 [INFO] lithops.executors -- ExecutorID 69b74f-3 - Cleaning temporary data\n"
     ]
    },
    {
     "name": "stdout",
     "output_type": "stream",
     "text": [
      "[5, 6, 7, 8]\n"
     ]
    }
   ],
   "source": [
    "iterdata = [1, 2, 3, 4]\n",
    "\n",
    "fexec = FunctionExecutor(backend='ibm_cf', storage='ibm_cos')\n",
    "fexec.map(mi_funcion, iterdata)\n",
    "print(fexec.get_result())\n",
    "\n",
    "fexec.clean()"
   ]
  },
  {
   "cell_type": "markdown",
   "id": "07641bd5",
   "metadata": {},
   "source": [
    "## Un poco más de complejidad..."
   ]
  },
  {
   "cell_type": "markdown",
   "id": "cab35592",
   "metadata": {},
   "source": [
    "### Cálculo de $\\pi$ por Montecarlo\n",
    "\n",
    "Consideremos al círculo unitario inscrito en el cuadrado de lado 2 centrado en el origen. Dado que el cociente de sus áreas es $\\frac{\\pi}{4}$, el valor de $\\pi$ puede aproximarse usando Montecarlo de acuerdo al siguiente método:\n",
    "\n",
    "1. Dibuja un círculo unitario, y al cuadrado de lado 2 que lo inscribe.\n",
    "2. Lanza un número $n$ de puntos aleatorios uniformes dentro del cuadrado.\n",
    "3. Cuenta el número de puntos dentro del círculo, i.e. puntos cuya distancia al origen es menor que 1.\n",
    "4. El cociente de los puntos dentro del círculo dividido entre $n$ es un estimado de, $\\frac{\\pi}{4}$. Multiplica el resultado por 4 para estimar $\\pi$.\n",
    "\n",
    " $$ \\pi \\approx 4 \\cdot \\frac{\\text{# puntos dentro}}{\\text{# total}}  $$\n",
    "\n",
    "![pi](img/Estimacion_de_Pi_por_Montercarlo.gif)\n",
    "\n",
    "Explicación de Wikipedia: https://es.wikipedia.org/wiki/M%C3%A9todo_de_Montecarlo\n",
    "\n",
    "Animación de Itsgaraet - Trabajo propio, CC BY-SA 4.0, https://commons.wikimedia.org/w/index.php?curid=87375153"
   ]
  },
  {
   "cell_type": "code",
   "execution_count": 8,
   "id": "13f3394c",
   "metadata": {},
   "outputs": [],
   "source": [
    "import random \n",
    "\n",
    "points_per_worker = 1_000_000\n",
    "\n",
    "def count_points(worker_seed):\n",
    "    random.seed(worker_seed)\n",
    "    count = 0 \n",
    "    \n",
    "    for i in range(points_per_worker):\n",
    "        x = random.uniform(-1, 1)\n",
    "        y = random.uniform(-1, 1)\n",
    "        \n",
    "        if x**2 + y**2 <= 1:\n",
    "            count += 1\n",
    "    \n",
    "    return count "
   ]
  },
  {
   "cell_type": "code",
   "execution_count": 9,
   "id": "a54f75a3",
   "metadata": {},
   "outputs": [
    {
     "name": "stderr",
     "output_type": "stream",
     "text": [
      "2022-10-01 15:53:45,425 [INFO] lithops.config -- Lithops v2.6.0\n",
      "2022-10-01 15:53:45,437 [INFO] lithops.storage.backends.aws_s3.aws_s3 -- S3 client created - Region: eu-central-1\n",
      "2022-10-01 15:53:45,910 [INFO] lithops.serverless.backends.aws_lambda.aws_lambda -- AWS Lambda client created - Region: eu-central-1\n",
      "2022-10-01 15:53:45,912 [INFO] lithops.invokers -- ExecutorID 69b74f-4 | JobID M000 - Selected Runtime: gfinol/python3.10:3.0 - 1769MB\n",
      "2022-10-01 15:53:46,021 [INFO] lithops.invokers -- ExecutorID 69b74f-4 | JobID M000 - Starting function invocation: count_points() - Total: 10 activations\n",
      "2022-10-01 15:53:46,030 [INFO] lithops.invokers -- ExecutorID 69b74f-4 | JobID M000 - View execution logs at /tmp/lithops/logs/69b74f-4-M000.log\n",
      "2022-10-01 15:53:46,032 [INFO] lithops.wait -- ExecutorID 69b74f-4 - Getting results from 10 function activations\n"
     ]
    },
    {
     "data": {
      "application/vnd.jupyter.widget-view+json": {
       "model_id": "bef8245764f34c66b65714239f062e52",
       "version_major": 2,
       "version_minor": 0
      },
      "text/plain": [
       "    0%|          | 0/10  "
      ]
     },
     "metadata": {},
     "output_type": "display_data"
    },
    {
     "name": "stderr",
     "output_type": "stream",
     "text": [
      "2022-10-01 15:53:52,140 [INFO] lithops.executors -- ExecutorID 69b74f-4 - Cleaning temporary data\n"
     ]
    },
    {
     "name": "stdout",
     "output_type": "stream",
     "text": [
      "La aproximación de pi obtenida es 3.1413596\n"
     ]
    }
   ],
   "source": [
    "n_workers = 10\n",
    "iter_data = range(n_workers) # [0, 1, 2, 3, 4, 5, 6, 7, 8, 9]\n",
    "\n",
    "# Muestreo de puntos aleatorios\n",
    "fexec = FunctionExecutor()\n",
    "futures = fexec.map(count_points, iter_data)\n",
    "counters = futures.get_result()\n",
    "fexec.clean()\n",
    "\n",
    "# Usamos los puntos del muestreo para aproximar el numero pi\n",
    "points_inside = sum(counters)\n",
    "total_points = n_workers * points_per_worker\n",
    "pi = (points_inside / total_points) * 4\n",
    "\n",
    "print(f'La aproximación de pi obtenida es {pi}')"
   ]
  },
  {
   "cell_type": "code",
   "execution_count": 10,
   "id": "2b65e145",
   "metadata": {},
   "outputs": [],
   "source": [
    "def approximate_pi(results):\n",
    "    points_inside = sum(results)\n",
    "    total_points = len(results) * points_per_worker\n",
    "    pi =  (points_inside / total_points) * 4\n",
    "    return pi"
   ]
  },
  {
   "cell_type": "code",
   "execution_count": 11,
   "id": "e3ad608a",
   "metadata": {},
   "outputs": [
    {
     "name": "stderr",
     "output_type": "stream",
     "text": [
      "2022-10-01 15:54:27,661 [INFO] lithops.config -- Lithops v2.6.0\n",
      "2022-10-01 15:54:27,673 [INFO] lithops.storage.backends.aws_s3.aws_s3 -- S3 client created - Region: eu-central-1\n",
      "2022-10-01 15:54:28,227 [INFO] lithops.serverless.backends.aws_lambda.aws_lambda -- AWS Lambda client created - Region: eu-central-1\n",
      "2022-10-01 15:54:28,229 [INFO] lithops.invokers -- ExecutorID 69b74f-5 | JobID M000 - Selected Runtime: gfinol/python3.10:3.0 - 1769MB\n",
      "2022-10-01 15:54:28,327 [INFO] lithops.invokers -- ExecutorID 69b74f-5 | JobID M000 - Starting function invocation: count_points() - Total: 10 activations\n",
      "2022-10-01 15:54:28,336 [INFO] lithops.invokers -- ExecutorID 69b74f-5 | JobID M000 - View execution logs at /tmp/lithops/logs/69b74f-5-M000.log\n",
      "2022-10-01 15:54:28,337 [INFO] lithops.wait -- ExecutorID 69b74f-5 - Waiting for 20% of 10 function activations to complete\n"
     ]
    },
    {
     "data": {
      "application/vnd.jupyter.widget-view+json": {
       "model_id": "401809910b3f4a3781604814a33fd592",
       "version_major": 2,
       "version_minor": 0
      },
      "text/plain": [
       "    0%|          | 0/2  "
      ]
     },
     "metadata": {},
     "output_type": "display_data"
    },
    {
     "name": "stderr",
     "output_type": "stream",
     "text": [
      "2022-10-01 15:54:32,368 [INFO] lithops.invokers -- ExecutorID 69b74f-5 | JobID R000 - Selected Runtime: gfinol/python3.10:3.0 - 1769MB\n",
      "2022-10-01 15:54:32,463 [INFO] lithops.invokers -- ExecutorID 69b74f-5 | JobID R000 - Starting function invocation: approximate_pi() - Total: 1 activations\n",
      "2022-10-01 15:54:32,464 [INFO] lithops.invokers -- ExecutorID 69b74f-5 | JobID R000 - View execution logs at /tmp/lithops/logs/69b74f-5-R000.log\n",
      "2022-10-01 15:54:32,465 [INFO] lithops.wait -- ExecutorID 69b74f-5 - Getting results from 11 function activations\n"
     ]
    },
    {
     "data": {
      "application/vnd.jupyter.widget-view+json": {
       "model_id": "03d737b8573349b58e8bcfee8fb5b6b7",
       "version_major": 2,
       "version_minor": 0
      },
      "text/plain": [
       "    0%|          | 0/11  "
      ]
     },
     "metadata": {},
     "output_type": "display_data"
    },
    {
     "name": "stderr",
     "output_type": "stream",
     "text": [
      "2022-10-01 15:54:36,507 [INFO] lithops.executors -- ExecutorID 69b74f-5 - Cleaning temporary data\n"
     ]
    },
    {
     "name": "stdout",
     "output_type": "stream",
     "text": [
      "La aproximación de pi obtenida es 3.1413596\n"
     ]
    }
   ],
   "source": [
    "fexec = FunctionExecutor()\n",
    "fexec.map_reduce(count_points, iter_data, approximate_pi)\n",
    "pi = fexec.get_result()\n",
    "fexec.clean()\n",
    "\n",
    "print(f'La aproximación de pi obtenida es {pi}')"
   ]
  },
  {
   "cell_type": "markdown",
   "id": "11b481de",
   "metadata": {},
   "source": [
    "### Más funciones!"
   ]
  },
  {
   "cell_type": "code",
   "execution_count": 12,
   "id": "6302e46d",
   "metadata": {},
   "outputs": [
    {
     "name": "stderr",
     "output_type": "stream",
     "text": [
      "2022-10-01 15:55:05,575 [INFO] lithops.config -- Lithops v2.6.0\n",
      "2022-10-01 15:55:05,586 [INFO] lithops.storage.backends.aws_s3.aws_s3 -- S3 client created - Region: eu-central-1\n",
      "2022-10-01 15:55:06,063 [INFO] lithops.serverless.backends.aws_lambda.aws_lambda -- AWS Lambda client created - Region: eu-central-1\n",
      "2022-10-01 15:55:06,064 [INFO] lithops.invokers -- ExecutorID 69b74f-6 | JobID M000 - Selected Runtime: gfinol/python3.10:3.0 - 1769MB\n",
      "2022-10-01 15:55:06,160 [INFO] lithops.invokers -- ExecutorID 69b74f-6 | JobID M000 - Starting function invocation: count_points() - Total: 100 activations\n",
      "2022-10-01 15:55:06,218 [INFO] lithops.invokers -- ExecutorID 69b74f-6 | JobID M000 - View execution logs at /tmp/lithops/logs/69b74f-6-M000.log\n",
      "2022-10-01 15:55:06,220 [INFO] lithops.wait -- ExecutorID 69b74f-6 - Waiting for 20% of 100 function activations to complete\n"
     ]
    },
    {
     "data": {
      "application/vnd.jupyter.widget-view+json": {
       "model_id": "b95a70346bb8482981a77e6c9e22babc",
       "version_major": 2,
       "version_minor": 0
      },
      "text/plain": [
       "    0%|          | 0/20  "
      ]
     },
     "metadata": {},
     "output_type": "display_data"
    },
    {
     "name": "stderr",
     "output_type": "stream",
     "text": [
      "2022-10-01 15:55:18,282 [INFO] lithops.invokers -- ExecutorID 69b74f-6 | JobID R000 - Selected Runtime: gfinol/python3.10:3.0 - 1769MB\n",
      "2022-10-01 15:55:18,364 [INFO] lithops.invokers -- ExecutorID 69b74f-6 | JobID R000 - Starting function invocation: approximate_pi() - Total: 1 activations\n",
      "2022-10-01 15:55:18,365 [INFO] lithops.invokers -- ExecutorID 69b74f-6 | JobID R000 - View execution logs at /tmp/lithops/logs/69b74f-6-R000.log\n",
      "2022-10-01 15:55:18,367 [INFO] lithops.wait -- ExecutorID 69b74f-6 - Getting results from 101 function activations\n"
     ]
    },
    {
     "data": {
      "application/vnd.jupyter.widget-view+json": {
       "model_id": "6fef2463d127482488b02910218528bd",
       "version_major": 2,
       "version_minor": 0
      },
      "text/plain": [
       "    0%|          | 0/101  "
      ]
     },
     "metadata": {},
     "output_type": "display_data"
    },
    {
     "name": "stderr",
     "output_type": "stream",
     "text": [
      "2022-10-01 15:55:22,478 [INFO] lithops.executors -- ExecutorID 69b74f-6 - Cleaning temporary data\n"
     ]
    },
    {
     "name": "stdout",
     "output_type": "stream",
     "text": [
      "La aproximación de pi obtenida es 3.14146612\n"
     ]
    }
   ],
   "source": [
    "random_seeds = range(100)\n",
    "\n",
    "fexec = FunctionExecutor()\n",
    "fexec.map_reduce(count_points, random_seeds, approximate_pi)\n",
    "pi = fexec.get_result()\n",
    "fexec.clean()\n",
    "\n",
    "print(f'La aproximación de pi obtenida es {pi}')"
   ]
  },
  {
   "cell_type": "markdown",
   "id": "eaa630ae",
   "metadata": {},
   "source": [
    "### Y muchísimas más funciones?"
   ]
  },
  {
   "cell_type": "code",
   "execution_count": 13,
   "id": "9d1684e1",
   "metadata": {},
   "outputs": [
    {
     "name": "stderr",
     "output_type": "stream",
     "text": [
      "2022-10-01 15:55:37,479 [INFO] lithops.config -- Lithops v2.6.0\n",
      "2022-10-01 15:55:37,491 [INFO] lithops.storage.backends.aws_s3.aws_s3 -- S3 client created - Region: eu-central-1\n",
      "2022-10-01 15:55:37,965 [INFO] lithops.serverless.backends.aws_lambda.aws_lambda -- AWS Lambda client created - Region: eu-central-1\n",
      "2022-10-01 15:55:37,967 [INFO] lithops.invokers -- ExecutorID 69b74f-7 | JobID M000 - Selected Runtime: gfinol/python3.10:3.0 - 1769MB\n",
      "2022-10-01 15:55:38,131 [INFO] lithops.invokers -- ExecutorID 69b74f-7 | JobID M000 - Starting function invocation: count_points() - Total: 1000 activations\n",
      "2022-10-01 15:55:38,323 [INFO] lithops.invokers -- ExecutorID 69b74f-7 | JobID M000 - View execution logs at /tmp/lithops/logs/69b74f-7-M000.log\n",
      "2022-10-01 15:55:38,337 [INFO] lithops.wait -- ExecutorID 69b74f-7 - Waiting for 20% of 1000 function activations to complete\n"
     ]
    },
    {
     "data": {
      "application/vnd.jupyter.widget-view+json": {
       "model_id": "2ed25b6723414203af520319f07bffc7",
       "version_major": 2,
       "version_minor": 0
      },
      "text/plain": [
       "    0%|          | 0/200  "
      ]
     },
     "metadata": {},
     "output_type": "display_data"
    },
    {
     "name": "stderr",
     "output_type": "stream",
     "text": [
      "2022-10-01 15:56:01,345 [INFO] lithops.invokers -- ExecutorID 69b74f-7 | JobID R000 - Selected Runtime: gfinol/python3.10:3.0 - 1769MB\n",
      "2022-10-01 15:56:01,564 [INFO] lithops.invokers -- ExecutorID 69b74f-7 | JobID R000 - Starting function invocation: approximate_pi() - Total: 1 activations\n",
      "2022-10-01 15:56:01,564 [INFO] lithops.invokers -- ExecutorID 69b74f-7 | JobID R000 - View execution logs at /tmp/lithops/logs/69b74f-7-R000.log\n",
      "2022-10-01 15:56:01,568 [INFO] lithops.wait -- ExecutorID 69b74f-7 - Getting results from 1001 function activations\n"
     ]
    },
    {
     "data": {
      "application/vnd.jupyter.widget-view+json": {
       "model_id": "2af1c2a424574b328683f54b99da1c11",
       "version_major": 2,
       "version_minor": 0
      },
      "text/plain": [
       "    0%|          | 0/1001  "
      ]
     },
     "metadata": {},
     "output_type": "display_data"
    },
    {
     "name": "stderr",
     "output_type": "stream",
     "text": [
      "2022-10-01 15:56:06,786 [INFO] lithops.executors -- ExecutorID 69b74f-7 - Cleaning temporary data\n"
     ]
    },
    {
     "name": "stdout",
     "output_type": "stream",
     "text": [
      "La aproximación de pi obtenida es 3.14150764\n"
     ]
    }
   ],
   "source": [
    "random_seeds = range(1000)\n",
    "\n",
    "fexec = FunctionExecutor()\n",
    "fexec.map_reduce(count_points, random_seeds, approximate_pi)\n",
    "pi = fexec.get_result()\n",
    "fexec.clean()\n",
    "\n",
    "print(f'La aproximación de pi obtenida es {pi}')"
   ]
  },
  {
   "cell_type": "markdown",
   "id": "9bc2fa48",
   "metadata": {},
   "source": [
    "## Conteo de palabras\n",
    "\n",
    "### Datos: conjunto de obras de teatro de Federico García Lorca. \n",
    "![federico garcia lorca](https://federicogarcialorca.net/lorca11.jpg)\n",
    "\n",
    "### Arquitectura \n",
    "\n",
    "\n",
    "Fuente de los datos: https://federicogarcialorca.net"
   ]
  },
  {
   "cell_type": "code",
   "execution_count": 14,
   "id": "eb6269f4",
   "metadata": {},
   "outputs": [
    {
     "name": "stderr",
     "output_type": "stream",
     "text": [
      "2022-10-01 15:56:43,294 [INFO] lithops.storage.backends.aws_s3.aws_s3 -- S3 client created - Region: eu-central-1\n"
     ]
    },
    {
     "name": "stdout",
     "output_type": "stream",
     "text": [
      "datasets/Teatro Federico Garcia Lorca/Amor de don Perlimplín con Belisa en su jardín.txt\n",
      "datasets/Teatro Federico Garcia Lorca/Así que pasen cinco años.txt\n",
      "datasets/Teatro Federico Garcia Lorca/BODAS DE SANGRE.txt\n",
      "datasets/Teatro Federico Garcia Lorca/Doña Rosita la soltera, o el lenguaje de las flores.txt\n",
      "datasets/Teatro Federico Garcia Lorca/El maleficio de la mariposa.txt\n",
      "datasets/Teatro Federico Garcia Lorca/El público.txt\n",
      "datasets/Teatro Federico Garcia Lorca/La Zapatera prodigiosa.txt\n",
      "datasets/Teatro Federico Garcia Lorca/La casa de Bernarda Alba.txt\n",
      "datasets/Teatro Federico Garcia Lorca/La niña que riega la albahaca y el príncipe preguntón.txt\n",
      "datasets/Teatro Federico Garcia Lorca/Los títeres de Cachiporra. Tragicomedia.txt\n",
      "datasets/Teatro Federico Garcia Lorca/Mariana Pineda.txt\n",
      "datasets/Teatro Federico Garcia Lorca/Retablillo de don Cristóbal.txt\n",
      "datasets/Teatro Federico Garcia Lorca/Teatro Breve.txt\n",
      "datasets/Teatro Federico Garcia Lorca/YERMA.txt\n"
     ]
    }
   ],
   "source": [
    "storage = Storage()\n",
    "\n",
    "archivos = storage.list_keys(bucket='pycones2022', prefix='datasets/Teatro Federico Garcia Lorca/')\n",
    "\n",
    "for archivo in archivos:\n",
    "    print(archivo)\n"
   ]
  },
  {
   "cell_type": "code",
   "execution_count": 15,
   "id": "b159c4f0",
   "metadata": {},
   "outputs": [],
   "source": [
    "def count_words_chunk(obj):\n",
    "    print('Bucket: {}'.format(obj.bucket))\n",
    "    print('Key: {}'.format(obj.key))\n",
    "    print('Partition num: {}'.format(obj.part))\n",
    "    counter = {}\n",
    "\n",
    "    data = obj.data_stream.read()\n",
    "\n",
    "    for line in data.splitlines():\n",
    "        for word in line.decode('utf-8').split():\n",
    "            if word not in counter:\n",
    "                counter[word] = 1\n",
    "            else:\n",
    "                counter[word] += 1\n",
    "\n",
    "    return counter\n"
   ]
  },
  {
   "cell_type": "code",
   "execution_count": 16,
   "id": "fe47c019",
   "metadata": {},
   "outputs": [],
   "source": [
    "def join_chunk_results(results):\n",
    "    final_result = {}\n",
    "    for count in results:\n",
    "        for word in count:\n",
    "            if word not in final_result:\n",
    "                final_result[word] = count[word]\n",
    "            else:\n",
    "                final_result[word] += count[word]\n",
    "    \n",
    "    items = final_result.items() \n",
    "    return list(items)\n"
   ]
  },
  {
   "cell_type": "code",
   "execution_count": 17,
   "id": "a8733653",
   "metadata": {},
   "outputs": [
    {
     "name": "stderr",
     "output_type": "stream",
     "text": [
      "2022-10-01 15:57:50,583 [INFO] lithops.config -- Lithops v2.6.0\n",
      "2022-10-01 15:57:50,594 [INFO] lithops.storage.backends.aws_s3.aws_s3 -- S3 client created - Region: eu-central-1\n",
      "2022-10-01 15:57:51,065 [INFO] lithops.serverless.backends.aws_lambda.aws_lambda -- AWS Lambda client created - Region: eu-central-1\n",
      "2022-10-01 15:57:51,067 [INFO] lithops.invokers -- ExecutorID 69b74f-8 | JobID M000 - Selected Runtime: gfinol/python3.10:3.0 - 1769MB\n",
      "2022-10-01 15:57:51,170 [INFO] lithops.invokers -- ExecutorID 69b74f-8 | JobID M000 - Starting function invocation: count_words_chunk() - Total: 14 activations\n",
      "2022-10-01 15:57:51,183 [INFO] lithops.invokers -- ExecutorID 69b74f-8 | JobID M000 - View execution logs at /tmp/lithops/logs/69b74f-8-M000.log\n",
      "2022-10-01 15:57:51,185 [INFO] lithops.wait -- ExecutorID 69b74f-8 - Waiting for 20% of 14 function activations to complete\n"
     ]
    },
    {
     "data": {
      "application/vnd.jupyter.widget-view+json": {
       "model_id": "40b95fabf2a2406fb9e2751306b2f0fe",
       "version_major": 2,
       "version_minor": 0
      },
      "text/plain": [
       "    0%|          | 0/3  "
      ]
     },
     "metadata": {},
     "output_type": "display_data"
    },
    {
     "name": "stderr",
     "output_type": "stream",
     "text": [
      "2022-10-01 15:57:57,221 [INFO] lithops.invokers -- ExecutorID 69b74f-8 | JobID R000 - Selected Runtime: gfinol/python3.10:3.0 - 1769MB\n",
      "2022-10-01 15:57:57,339 [INFO] lithops.invokers -- ExecutorID 69b74f-8 | JobID R000 - Starting function invocation: join_chunk_results() - Total: 1 activations\n",
      "2022-10-01 15:57:57,340 [INFO] lithops.invokers -- ExecutorID 69b74f-8 | JobID R000 - View execution logs at /tmp/lithops/logs/69b74f-8-R000.log\n",
      "2022-10-01 15:57:57,342 [INFO] lithops.wait -- ExecutorID 69b74f-8 - Getting results from 15 function activations\n"
     ]
    },
    {
     "data": {
      "application/vnd.jupyter.widget-view+json": {
       "model_id": "04e3cbe35d934c9cb5388a98c6ac256e",
       "version_major": 2,
       "version_minor": 0
      },
      "text/plain": [
       "    0%|          | 0/15  "
      ]
     },
     "metadata": {},
     "output_type": "display_data"
    },
    {
     "name": "stderr",
     "output_type": "stream",
     "text": [
      "2022-10-01 15:58:00,405 [INFO] lithops.executors -- ExecutorID 69b74f-8 - Cleaning temporary data\n"
     ]
    }
   ],
   "source": [
    "bucketname = 'pycones2022/datasets/Teatro Federico Garcia Lorca/' \n",
    "\n",
    "fexec = FunctionExecutor()\n",
    "fexec.map_reduce(count_words_chunk, bucketname, join_chunk_results)\n",
    "results = fexec.get_result()\n",
    "fexec.clean()"
   ]
  },
  {
   "cell_type": "code",
   "execution_count": 18,
   "id": "2a4fa999",
   "metadata": {},
   "outputs": [
    {
     "name": "stdout",
     "output_type": "stream",
     "text": [
      "[('de', 4208),\n",
      " ('la', 3366),\n",
      " ('que', 3042),\n",
      " ('y', 2862),\n",
      " ('el', 2209),\n",
      " ('a', 1883),\n",
      " ('en', 1607),\n",
      " ('no', 1292),\n",
      " ('las', 1239),\n",
      " ('con', 1230)]\n"
     ]
    }
   ],
   "source": [
    "from pprint import pprint\n",
    "results.sort(reverse=True, key = lambda x: x[1])\n",
    "pprint(results[:10])"
   ]
  },
  {
   "cell_type": "markdown",
   "id": "9d701459",
   "metadata": {},
   "source": [
    "### Ahora en un fichero más \"big\"...\n",
    "\n",
    "![el quijote](img/quijote.jpg)"
   ]
  },
  {
   "cell_type": "code",
   "execution_count": 19,
   "id": "a9d13c75",
   "metadata": {},
   "outputs": [
    {
     "name": "stderr",
     "output_type": "stream",
     "text": [
      "2022-10-01 15:58:40,853 [INFO] lithops.storage.backends.aws_s3.aws_s3 -- S3 client created - Region: eu-central-1\n"
     ]
    },
    {
     "name": "stdout",
     "output_type": "stream",
     "text": [
      "El fichero \"datasets/el_quijote_large.txt\" tine un tamaño de 42410400 bytes.\n"
     ]
    }
   ],
   "source": [
    "bucket = 'pycones2022'\n",
    "file = 'datasets/el_quijote_large.txt' \n",
    "\n",
    "storage = Storage()\n",
    "metadata = storage.head_object(bucket, file)\n",
    "\n",
    "print(f'El fichero \"{file}\" tine un tamaño de {metadata[\"content-length\"]} bytes.')\n"
   ]
  },
  {
   "cell_type": "code",
   "execution_count": 20,
   "id": "0f0a3615",
   "metadata": {},
   "outputs": [
    {
     "name": "stderr",
     "output_type": "stream",
     "text": [
      "2022-10-01 15:59:07,679 [INFO] lithops.config -- Lithops v2.6.0\n",
      "2022-10-01 15:59:07,692 [INFO] lithops.storage.backends.aws_s3.aws_s3 -- S3 client created - Region: eu-central-1\n",
      "2022-10-01 15:59:08,167 [INFO] lithops.serverless.backends.aws_lambda.aws_lambda -- AWS Lambda client created - Region: eu-central-1\n",
      "2022-10-01 15:59:08,169 [INFO] lithops.invokers -- ExecutorID 69b74f-9 | JobID M000 - Selected Runtime: gfinol/python3.10:3.0 - 1769MB\n",
      "2022-10-01 15:59:08,401 [INFO] lithops.invokers -- ExecutorID 69b74f-9 | JobID M000 - Starting function invocation: count_words_chunk() - Total: 11 activations\n",
      "2022-10-01 15:59:08,412 [INFO] lithops.invokers -- ExecutorID 69b74f-9 | JobID M000 - View execution logs at /tmp/lithops/logs/69b74f-9-M000.log\n",
      "2022-10-01 15:59:08,414 [INFO] lithops.wait -- ExecutorID 69b74f-9 - Waiting for 20% of 11 function activations to complete\n"
     ]
    },
    {
     "data": {
      "application/vnd.jupyter.widget-view+json": {
       "model_id": "b238788829eb485a80a42d4b7cd48195",
       "version_major": 2,
       "version_minor": 0
      },
      "text/plain": [
       "    0%|          | 0/3  "
      ]
     },
     "metadata": {},
     "output_type": "display_data"
    },
    {
     "name": "stderr",
     "output_type": "stream",
     "text": [
      "2022-10-01 15:59:14,453 [INFO] lithops.invokers -- ExecutorID 69b74f-9 | JobID R000 - Selected Runtime: gfinol/python3.10:3.0 - 1769MB\n",
      "2022-10-01 15:59:14,531 [INFO] lithops.invokers -- ExecutorID 69b74f-9 | JobID R000 - Starting function invocation: join_chunk_results() - Total: 1 activations\n",
      "2022-10-01 15:59:14,532 [INFO] lithops.invokers -- ExecutorID 69b74f-9 | JobID R000 - View execution logs at /tmp/lithops/logs/69b74f-9-R000.log\n",
      "2022-10-01 15:59:14,534 [INFO] lithops.wait -- ExecutorID 69b74f-9 - Getting results from 12 function activations\n"
     ]
    },
    {
     "data": {
      "application/vnd.jupyter.widget-view+json": {
       "model_id": "b1514e6a9da1477995996750a8d06807",
       "version_major": 2,
       "version_minor": 0
      },
      "text/plain": [
       "    0%|          | 0/12  "
      ]
     },
     "metadata": {},
     "output_type": "display_data"
    },
    {
     "name": "stderr",
     "output_type": "stream",
     "text": [
      "2022-10-01 15:59:17,582 [INFO] lithops.executors -- ExecutorID 69b74f-9 - Cleaning temporary data\n"
     ]
    }
   ],
   "source": [
    "chunk_size = 4 * 1024**2 # 4 MB\n",
    "path = bucket + '/' + file\n",
    "\n",
    "\n",
    "fexec = FunctionExecutor()\n",
    "fexec.map_reduce(count_words_chunk, path, join_chunk_results, obj_chunk_size=chunk_size)\n",
    "results = fexec.get_result()\n",
    "fexec.clean()"
   ]
  },
  {
   "cell_type": "code",
   "execution_count": 21,
   "id": "ab6b4227",
   "metadata": {},
   "outputs": [
    {
     "name": "stdout",
     "output_type": "stream",
     "text": [
      "[('que', 414040),\n",
      " ('de', 357880),\n",
      " ('y', 321680),\n",
      " ('la', 197640),\n",
      " ('a', 189000),\n",
      " ('en', 155320),\n",
      " ('el', 149040),\n",
      " ('no', 111440),\n",
      " ('se', 95280),\n",
      " ('los', 84880)]\n"
     ]
    }
   ],
   "source": [
    "results.sort(reverse=True, key = lambda x: x[1])\n",
    "pprint(results[:10])"
   ]
  },
  {
   "cell_type": "code",
   "execution_count": null,
   "id": "4d72b945-d795-4114-a1eb-4a6e1c740691",
   "metadata": {},
   "outputs": [],
   "source": []
  }
 ],
 "metadata": {
  "kernelspec": {
   "display_name": "Python 3 (ipykernel)",
   "language": "python",
   "name": "python3"
  },
  "language_info": {
   "codemirror_mode": {
    "name": "ipython",
    "version": 3
   },
   "file_extension": ".py",
   "mimetype": "text/x-python",
   "name": "python",
   "nbconvert_exporter": "python",
   "pygments_lexer": "ipython3",
   "version": "3.10.6"
  }
 },
 "nbformat": 4,
 "nbformat_minor": 5
}
